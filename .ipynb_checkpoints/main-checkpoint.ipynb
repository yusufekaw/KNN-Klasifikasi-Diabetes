{
 "cells": [
  {
   "cell_type": "code",
   "execution_count": 1,
   "id": "b1138fdb-8868-4d6c-b239-9df71c7cae2c",
   "metadata": {},
   "outputs": [],
   "source": [
    "from data.pemrosesan_data import ProsesData\n",
    "from algoritma.knn import KNN\n",
    "import pandas as pd \n",
    "from collections import Counter"
   ]
  },
  {
   "cell_type": "code",
   "execution_count": 2,
   "id": "171ed3b2-39fc-4202-811a-4306bcfdda01",
   "metadata": {},
   "outputs": [
    {
     "name": "stdout",
     "output_type": "stream",
     "text": [
      "data mentahan\n",
      "     Pregnancies  Glucose  BloodPressure  SkinThickness  Insulin   BMI  \\\n",
      "0              6      148             72             35        0  33.6   \n",
      "1              1       85             66             29        0  26.6   \n",
      "2              8      183             64              0        0  23.3   \n",
      "3              1       89             66             23       94  28.1   \n",
      "4              0      137             40             35      168  43.1   \n",
      "..           ...      ...            ...            ...      ...   ...   \n",
      "763           10      101             76             48      180  32.9   \n",
      "764            2      122             70             27        0  36.8   \n",
      "765            5      121             72             23      112  26.2   \n",
      "766            1      126             60              0        0  30.1   \n",
      "767            1       93             70             31        0  30.4   \n",
      "\n",
      "     DiabetesPedigreeFunction  Age  Outcome  \n",
      "0                       0.627   50        1  \n",
      "1                       0.351   31        0  \n",
      "2                       0.672   32        1  \n",
      "3                       0.167   21        0  \n",
      "4                       2.288   33        1  \n",
      "..                        ...  ...      ...  \n",
      "763                     0.171   63        0  \n",
      "764                     0.340   27        0  \n",
      "765                     0.245   30        0  \n",
      "766                     0.349   47        1  \n",
      "767                     0.315   23        0  \n",
      "\n",
      "[768 rows x 9 columns]\n"
     ]
    }
   ],
   "source": [
    "# Tentukan path ke dataset\n",
    "dataset_path = 'data/dataset/diabetes.csv'\n",
    "# Buat instance dari pemrosesan dara\n",
    "proses_data = ProsesData(dataset_path)    \n",
    "# Memuat dataset\n",
    "dataset = proses_data.ambilData()\n",
    "print(\"data mentahan\")\n",
    "print(dataset)"
   ]
  },
  {
   "cell_type": "code",
   "execution_count": 3,
   "id": "7341d3fe-661c-4098-aa54-8c7482781a86",
   "metadata": {},
   "outputs": [
    {
     "name": "stdout",
     "output_type": "stream",
     "text": [
      "X_train:\n",
      "     Pregnancies  Glucose  BloodPressure  SkinThickness  Insulin   BMI  \\\n",
      "668            6       98             58             33      190  34.0   \n",
      "324            2      112             75             32        0  35.7   \n",
      "624            2      108             64              0        0  30.8   \n",
      "690            8      107             80              0        0  24.6   \n",
      "473            7      136             90              0        0  29.9   \n",
      "..           ...      ...            ...            ...      ...   ...   \n",
      "151            4      114             65              0        0  21.9   \n",
      "403            9       72             78             25        0  31.6   \n",
      "723            5      117             86             30      105  39.1   \n",
      "207            5      162            104              0        0  37.7   \n",
      "650            1       91             54             25      100  25.2   \n",
      "\n",
      "     DiabetesPedigreeFunction  Age  \n",
      "668                     0.430   43  \n",
      "324                     0.148   21  \n",
      "624                     0.158   21  \n",
      "690                     0.856   34  \n",
      "473                     0.210   50  \n",
      "..                        ...  ...  \n",
      "151                     0.432   37  \n",
      "403                     0.280   38  \n",
      "723                     0.251   42  \n",
      "207                     0.151   52  \n",
      "650                     0.234   23  \n",
      "\n",
      "[537 rows x 8 columns]\n",
      "X_test:\n",
      "     Pregnancies  Glucose  BloodPressure  SkinThickness  Insulin   BMI  \\\n",
      "597            1       89             24             19       25  27.8   \n",
      "8              2      197             70             45      543  30.5   \n",
      "625            4       90             88             47       54  37.7   \n",
      "36            11      138             76              0        0  33.2   \n",
      "452            0       91             68             32      210  39.9   \n",
      "..           ...      ...            ...            ...      ...   ...   \n",
      "71             5      139             64             35      140  28.6   \n",
      "106            1       96            122              0        0  22.4   \n",
      "270           10      101             86             37        0  45.6   \n",
      "435            0      141              0              0        0  42.4   \n",
      "102            0      125             96              0        0  22.5   \n",
      "\n",
      "     DiabetesPedigreeFunction  Age  \n",
      "597                     0.559   21  \n",
      "8                       0.158   53  \n",
      "625                     0.362   29  \n",
      "36                      0.420   35  \n",
      "452                     0.381   25  \n",
      "..                        ...  ...  \n",
      "71                      0.411   26  \n",
      "106                     0.207   27  \n",
      "270                     1.136   38  \n",
      "435                     0.205   29  \n",
      "102                     0.262   21  \n",
      "\n",
      "[231 rows x 8 columns]\n",
      "y_train:\n",
      "668    0\n",
      "324    0\n",
      "624    0\n",
      "690    0\n",
      "473    0\n",
      "      ..\n",
      "151    0\n",
      "403    0\n",
      "723    0\n",
      "207    1\n",
      "650    0\n",
      "Name: Outcome, Length: 537, dtype: int64\n",
      "y_test:\n",
      "597    0\n",
      "8      1\n",
      "625    0\n",
      "36     0\n",
      "452    0\n",
      "      ..\n",
      "71     0\n",
      "106    0\n",
      "270    1\n",
      "435    1\n",
      "102    0\n",
      "Name: Outcome, Length: 231, dtype: int64\n"
     ]
    }
   ],
   "source": [
    "# Bagi data menjadi X_train, X_test, y_train, y_test\n",
    "X_train, X_test, y_train, y_test = proses_data.Split(test_size=0.3, random_state=42)\n",
    "print(\"X_train:\")\n",
    "print(X_train)\n",
    "print(\"X_test:\")\n",
    "print(X_test)\n",
    "print(\"y_train:\")\n",
    "print(y_train)\n",
    "print(\"y_test:\")\n",
    "print(y_test)"
   ]
  },
  {
   "cell_type": "code",
   "execution_count": 4,
   "id": "a8de5d00-8d07-4a2a-af48-5bd1fd6b5ef1",
   "metadata": {},
   "outputs": [
    {
     "name": "stdout",
     "output_type": "stream",
     "text": [
      "proses menghitung jarak . . .\n",
      "menghitung jarak selesai\n"
     ]
    }
   ],
   "source": [
    "#instance kelas KNN\n",
    "knn = KNN()\n",
    "#K\n",
    "K=7\n",
    "#menhitung jarak testing dengan training\n",
    "print(\"proses menghitung jarak . . .\")\n",
    "matriks_jarak = []\n",
    "for i in range(len(X_test)):\n",
    "    jarak = []\n",
    "    for ii in range(len(X_train)):\n",
    "        hitung_jarak = knn.EuclideanDistance(X_test.iloc[i],X_train.iloc[ii], X_train)\n",
    "        jarak.append(hitung_jarak)\n",
    "    matriks_jarak.append(jarak)\n",
    "print(\"menghitung jarak selesai\")"
   ]
  },
  {
   "cell_type": "code",
   "execution_count": 5,
   "id": "800ec95e-9df6-41dc-9e9c-1ae5fc700a4c",
   "metadata": {},
   "outputs": [
    {
     "name": "stdout",
     "output_type": "stream",
     "text": [
      "Jarak Euclidean antara semua pasangan baris dalam dataset:\n",
      "            668         324         624         690         473         204  \\\n",
      "597  170.896040   63.147280   54.379783   68.369059   91.828818  176.558957   \n",
      "8    367.187042  550.744079  553.041671  552.726241  548.661428  365.636250   \n",
      "625  140.959904   62.177534   78.362310   75.437749   88.067378  140.804835   \n",
      "36   197.996566   44.545752   36.425659   32.575299   21.258742  197.003196   \n",
      "452   30.737801  211.252679  213.381957  214.250591  220.015975   38.740718   \n",
      "..          ...         ...         ...         ...         ...         ...   \n",
      "71    67.380712  143.329966  147.732542  148.977173  148.632871   69.237400   \n",
      "106  204.217065   60.851405   60.129547   44.589923   56.967096  201.782318   \n",
      "270  192.574813   26.813917   49.749337   43.612824   54.866634  191.554351   \n",
      "435  206.650939   87.194571   73.400015   89.231518   93.654952  210.917292   \n",
      "102  200.035692   42.570565   37.227689   28.596553   33.192811  199.015185   \n",
      "\n",
      "            97          336         568         148  ...         103  \\\n",
      "597   59.647428   53.964239  130.794873   96.192132  ...   51.034461   \n",
      "8    486.047361  555.221117  419.831719  547.358423  ...  517.740500   \n",
      "625   60.359685  117.705288   99.824649   98.929372  ...   39.130758   \n",
      "36   108.654726   80.122545  130.558863   31.957641  ...   73.848350   \n",
      "452  139.076430  225.438492  106.225994  223.659264  ...  171.437743   \n",
      "..          ...         ...         ...         ...  ...         ...   \n",
      "71    96.769043  160.565599   25.500889  150.439514  ...  117.222081   \n",
      "106  110.589391  125.481017  150.894755   78.260399  ...   68.378694   \n",
      "270   97.230144   96.417227  138.517605   66.674228  ...   56.530767   \n",
      "435  117.635088   29.588655  149.242178   86.698848  ...  104.802892   \n",
      "102  106.425625   99.685199  135.953837   53.800018  ...   66.804270   \n",
      "\n",
      "            421         419         119         53          151         403  \\\n",
      "597   67.581358  107.028387   59.382429  298.710258   59.931846   65.065489   \n",
      "8    480.078548  434.445409  503.671812  245.116983  551.472606  557.864880   \n",
      "625   44.112692   79.194131   39.144212  262.598574   80.892799   62.985845   \n",
      "36    91.808822  120.209319   68.498458  305.506550   29.625836   70.714776   \n",
      "452  135.551623  103.413134  161.272797  130.401102  214.816207  211.964384   \n",
      "..          ...         ...         ...         ...         ...         ...   \n",
      "71    80.416307   27.818642  100.599182  169.425539  147.030236  156.697215   \n",
      "106   95.236996  136.161669   70.686917  315.781186   60.681963   58.366474   \n",
      "270   85.132195  122.782250   63.376601  310.154893   50.775837   35.309103   \n",
      "435  115.195862  136.279126  103.993463  318.530624   73.853243  108.391169   \n",
      "102   88.664195  123.203944   62.597856  308.790353   36.802023   64.890757   \n",
      "\n",
      "            723         207         650  \n",
      "597  108.322596  117.431582   81.091711  \n",
      "8    446.014539  547.098565  457.241835  \n",
      "625   61.603347  105.333017   62.914755  \n",
      "36   112.186624   41.295549  116.730607  \n",
      "452  111.102011  228.516723  112.098669  \n",
      "..          ...         ...         ...  \n",
      "71    50.835771  153.989862   64.347427  \n",
      "106  119.087749   74.532497  123.684440  \n",
      "270  106.836479   75.487616  109.503304  \n",
      "435  141.781142  108.780021  127.960310  \n",
      "102  113.272062   51.478659  116.435780  \n",
      "\n",
      "[231 rows x 537 columns]\n"
     ]
    }
   ],
   "source": [
    "# Menampilkan hasil perhitungan jarak\n",
    "df_jarak = pd.DataFrame(matriks_jarak, index=X_test.index, columns=X_train.index)\n",
    "print(\"Jarak Euclidean antara semua pasangan baris dalam dataset:\")\n",
    "print(df_jarak)"
   ]
  },
  {
   "cell_type": "code",
   "execution_count": 6,
   "id": "2e383940-0672-44fd-9041-129c208b173e",
   "metadata": {},
   "outputs": [
    {
     "name": "stdout",
     "output_type": "stream",
     "text": [
      "Jarak Terdekat dari Setiap Baris Data Testing ke Data Training:\n",
      "      Index Test  Index Train      Jarak  Kelas Train\n",
      "0            597           51  31.543004            0\n",
      "1            597          172  35.203065            0\n",
      "2            597          760  35.908256            0\n",
      "3            597          108  38.043393            0\n",
      "4            597           55  40.757045            0\n",
      "...          ...          ...        ...          ...\n",
      "1612         102          731  14.993666            1\n",
      "1613         102          164  17.436782            1\n",
      "1614         102          464  19.386273            0\n",
      "1615         102          351  21.463693            0\n",
      "1616         102          627  21.703160            0\n",
      "\n",
      "[1617 rows x 4 columns]\n"
     ]
    }
   ],
   "source": [
    "# Menemukan k jarak terdekat untuk setiap baris dalam data pengujian\n",
    "indeks_terdekat = df_jarak.apply(lambda row: row.nsmallest(K).index, axis=1)\n",
    "jarak_terdekat = df_jarak.apply(lambda row: row.nsmallest(K).values, axis=1)\n",
    "# Menampilkan hasil jarak terdekat\n",
    "hasil_jarak = []\n",
    "for i, index_test in enumerate(X_test.index):\n",
    "    k_indeks_terdekat = indeks_terdekat[index_test]\n",
    "    k_jarak_tedekat = jarak_terdekat[index_test]\n",
    "    for ii in range(K):\n",
    "        index_train = k_indeks_terdekat[ii]\n",
    "        jarak = k_jarak_tedekat[ii]\n",
    "        kelas_train = y_train[index_train]\n",
    "        hasil_jarak.append({\n",
    "            'Index Test': index_test,\n",
    "            'Index Train': index_train,\n",
    "            'Jarak': jarak,\n",
    "            'Kelas Train': kelas_train\n",
    "        })\n",
    "hasil_jarak_df = pd.DataFrame(hasil_jarak)\n",
    "print(\"Jarak Terdekat dari Setiap Baris Data Testing ke Data Training:\")\n",
    "print(hasil_jarak_df)"
   ]
  },
  {
   "cell_type": "code",
   "execution_count": 7,
   "id": "4ae0e111-7c81-4ca1-8560-1844de1557de",
   "metadata": {},
   "outputs": [
    {
     "name": "stdout",
     "output_type": "stream",
     "text": [
      "Kelas Baru pada Data Testing Berdasarkan Kelas Mayoritas dari Tetangga Terdekat:\n",
      "     Index Test  Kelas Prediksi  Outcome\n",
      "0           597               0        0\n",
      "1             8               1        1\n",
      "2           625               0        0\n",
      "3            36               0        0\n",
      "4           452               0        0\n",
      "..          ...             ...      ...\n",
      "226          71               0        0\n",
      "227         106               0        0\n",
      "228         270               1        1\n",
      "229         435               1        1\n",
      "230         102               0        0\n",
      "\n",
      "[231 rows x 3 columns]\n"
     ]
    }
   ],
   "source": [
    "# Menentukan kelas baru pada data pengujian berdasarkan kelas mayoritas dari tetangga terdekat\n",
    "kelas_prediksi = []\n",
    "for index_test in X_test.index:\n",
    "    kelas_terdekat = hasil_jarak_df[hasil_jarak_df['Index Test'] == index_test]['Kelas Train']\n",
    "    kelas_mayoritas = Counter(kelas_terdekat).most_common(1)[0][0]\n",
    "    kelas_prediksi.append({\n",
    "        'Index Test': index_test,\n",
    "        'Kelas Prediksi':kelas_mayoritas\n",
    "    })\n",
    "\n",
    "# Kelas prediksi\n",
    "kelas_prediksi_df = pd.DataFrame(kelas_prediksi)\n",
    "kelas_prediksi_df.reset_index(drop=True, inplace=True)\n",
    "y_test.reset_index(drop=True, inplace=True)\n",
    "hasil_prediksi = result = pd.concat([kelas_prediksi_df, y_test], axis=1)\n",
    "print(\"Kelas Baru pada Data Testing Berdasarkan Kelas Mayoritas dari Tetangga Terdekat:\")\n",
    "print(hasil_prediksi)"
   ]
  },
  {
   "cell_type": "code",
   "execution_count": 8,
   "id": "71d137d2-b663-4ef8-a0b0-480bd2d39b71",
   "metadata": {},
   "outputs": [
    {
     "name": "stdout",
     "output_type": "stream",
     "text": [
      "Prediksi Benar :  169\n",
      "Prediksi salah :  62\n",
      "Akurasi :  73.16 %\n"
     ]
    }
   ],
   "source": [
    "#Evaluasi model\n",
    "prediksi_benar = (hasil_prediksi['Kelas Prediksi'] == hasil_prediksi['Outcome']).sum()\n",
    "prediksi_salah = hasil_prediksi.shape[0]-prediksi_benar\n",
    "akurasi = (prediksi_benar/hasil_prediksi.shape[0])*100\n",
    "print(\"Prediksi Benar : \",prediksi_benar)\n",
    "print(\"Prediksi salah : \",prediksi_salah)\n",
    "print(\"Akurasi : \",round(akurasi,2),\"%\")"
   ]
  },
  {
   "cell_type": "code",
   "execution_count": null,
   "id": "3948507e-a373-4449-8a56-8c371553a02b",
   "metadata": {},
   "outputs": [],
   "source": []
  }
 ],
 "metadata": {
  "kernelspec": {
   "display_name": "Python 3 (ipykernel)",
   "language": "python",
   "name": "python3"
  },
  "language_info": {
   "codemirror_mode": {
    "name": "ipython",
    "version": 3
   },
   "file_extension": ".py",
   "mimetype": "text/x-python",
   "name": "python",
   "nbconvert_exporter": "python",
   "pygments_lexer": "ipython3",
   "version": "3.10.12"
  }
 },
 "nbformat": 4,
 "nbformat_minor": 5
}
